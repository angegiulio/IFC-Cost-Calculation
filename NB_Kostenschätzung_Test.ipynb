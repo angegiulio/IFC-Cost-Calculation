{
  "nbformat": 4,
  "nbformat_minor": 0,
  "metadata": {
    "colab": {
      "provenance": [],
      "authorship_tag": "ABX9TyN+7Zeidg0D2Lw1DU8SBb3H",
      "include_colab_link": true
    },
    "kernelspec": {
      "name": "python3",
      "display_name": "Python 3"
    },
    "language_info": {
      "name": "python"
    }
  },
  "cells": [
    {
      "cell_type": "markdown",
      "metadata": {
        "id": "view-in-github",
        "colab_type": "text"
      },
      "source": [
        "<a href=\"https://colab.research.google.com/github/angegiulio/IFC-Cost-Calculation/blob/main/NB_Kostensch%C3%A4tzung_Test.ipynb\" target=\"_parent\"><img src=\"https://colab.research.google.com/assets/colab-badge.svg\" alt=\"Open In Colab\"/></a>"
      ]
    },
    {
      "cell_type": "code",
      "source": [
        "pip install ifcopenshell pandas"
      ],
      "metadata": {
        "colab": {
          "base_uri": "https://localhost:8080/"
        },
        "id": "lTU6vosCNzhF",
        "outputId": "7334cdac-2a94-4528-a35e-07f08a1c864a"
      },
      "execution_count": 2,
      "outputs": [
        {
          "output_type": "stream",
          "name": "stdout",
          "text": [
            "Collecting ifcopenshell\n",
            "  Downloading ifcopenshell-0.8.1.post1-py311-none-manylinux_2_31_x86_64.whl.metadata (11 kB)\n",
            "Requirement already satisfied: pandas in /usr/local/lib/python3.11/dist-packages (2.2.2)\n",
            "Requirement already satisfied: shapely in /usr/local/lib/python3.11/dist-packages (from ifcopenshell) (2.1.0)\n",
            "Requirement already satisfied: numpy in /usr/local/lib/python3.11/dist-packages (from ifcopenshell) (2.0.2)\n",
            "Collecting isodate (from ifcopenshell)\n",
            "  Downloading isodate-0.7.2-py3-none-any.whl.metadata (11 kB)\n",
            "Requirement already satisfied: python-dateutil in /usr/local/lib/python3.11/dist-packages (from ifcopenshell) (2.8.2)\n",
            "Collecting lark (from ifcopenshell)\n",
            "  Downloading lark-1.2.2-py3-none-any.whl.metadata (1.8 kB)\n",
            "Requirement already satisfied: typing-extensions in /usr/local/lib/python3.11/dist-packages (from ifcopenshell) (4.13.1)\n",
            "Requirement already satisfied: pytz>=2020.1 in /usr/local/lib/python3.11/dist-packages (from pandas) (2025.2)\n",
            "Requirement already satisfied: tzdata>=2022.7 in /usr/local/lib/python3.11/dist-packages (from pandas) (2025.2)\n",
            "Requirement already satisfied: six>=1.5 in /usr/local/lib/python3.11/dist-packages (from python-dateutil->ifcopenshell) (1.17.0)\n",
            "Downloading ifcopenshell-0.8.1.post1-py311-none-manylinux_2_31_x86_64.whl (40.8 MB)\n",
            "\u001b[2K   \u001b[90m━━━━━━━━━━━━━━━━━━━━━━━━━━━━━━━━━━━━━━━━\u001b[0m \u001b[32m40.8/40.8 MB\u001b[0m \u001b[31m17.5 MB/s\u001b[0m eta \u001b[36m0:00:00\u001b[0m\n",
            "\u001b[?25hDownloading isodate-0.7.2-py3-none-any.whl (22 kB)\n",
            "Downloading lark-1.2.2-py3-none-any.whl (111 kB)\n",
            "\u001b[2K   \u001b[90m━━━━━━━━━━━━━━━━━━━━━━━━━━━━━━━━━━━━━━━━\u001b[0m \u001b[32m111.0/111.0 kB\u001b[0m \u001b[31m9.3 MB/s\u001b[0m eta \u001b[36m0:00:00\u001b[0m\n",
            "\u001b[?25hInstalling collected packages: lark, isodate, ifcopenshell\n",
            "Successfully installed ifcopenshell-0.8.1.post1 isodate-0.7.2 lark-1.2.2\n"
          ]
        }
      ]
    },
    {
      "cell_type": "code",
      "execution_count": null,
      "metadata": {
        "colab": {
          "base_uri": "https://localhost:8080/"
        },
        "id": "RY2wvZOxNuCh",
        "outputId": "fcbde978-d385-48db-e74b-18f9c9e4bcb0"
      },
      "outputs": [
        {
          "output_type": "stream",
          "name": "stdout",
          "text": [
            "✅ Exported wall data to wall_surface_summary.csv\n"
          ]
        }
      ],
      "source": [
        "\n",
        "ifc_file = ifcopenshell.open(r\"NB_AR_SB_M ARCHI-RE.ifc\")  # Replace with actual file path\n"
      ]
    },
    {
      "cell_type": "code",
      "source": [
        "import ifcopenshell\n",
        "import pandas as pd\n",
        "import re\n",
        "\n",
        "# === Load IFC file ===\n",
        "ifc_file = ifcopenshell.open(r\"NB_AR_SB_M ARCHI-RE.ifc\")\n",
        "\n",
        "# === Helper functions ===\n",
        "\n",
        "def get_clean_name(name):\n",
        "    \"\"\"Extract the part of the name between the first and second colon.\"\"\"\n",
        "    if not name:\n",
        "        return None\n",
        "    parts = name.split(\":\")\n",
        "    return parts[1] if len(parts) >= 3 else name\n",
        "\n",
        "\n",
        "def get_building_of_element(element):\n",
        "    \"\"\"Get the building to which the element belongs.\"\"\"\n",
        "    for rel in element.ContainedInStructure or []:\n",
        "        for obj in rel.RelatingStructure.RepresentationContexts or []:\n",
        "            if obj.is_a(\"IfcBuilding\"):\n",
        "                return obj.Name\n",
        "        if rel.RelatingStructure.is_a(\"IfcBuilding\"):\n",
        "            return rel.RelatingStructure.Name\n",
        "        elif rel.RelatingStructure.is_a(\"IfcBuildingStorey\"):\n",
        "            # Go up one level to building\n",
        "            parent = rel.RelatingStructure.Decomposes\n",
        "            while parent:\n",
        "                parent_obj = parent[0].RelatingObject if parent else None\n",
        "                if parent_obj and parent_obj.is_a(\"IfcBuilding\"):\n",
        "                    return parent_obj.Name\n",
        "                parent = parent_obj.Decomposes if parent_obj else None\n",
        "    return \"Unknown\"\n",
        "\n",
        "def get_building_of_element(element):\n",
        "    \"\"\"Traverse up containment to find the IfcBuilding.\"\"\"\n",
        "    if not element.ContainedInStructure:\n",
        "        return \"Unknown\"\n",
        "\n",
        "    for rel in element.ContainedInStructure:\n",
        "        structure = rel.RelatingStructure\n",
        "        while structure:\n",
        "            if structure.is_a(\"IfcBuilding\"):\n",
        "                return structure.Name\n",
        "            if hasattr(structure, \"Decomposes\") and structure.Decomposes:\n",
        "                structure = structure.Decomposes[0].RelatingObject\n",
        "            else:\n",
        "                break\n",
        "    return \"Unknown\"\n",
        "\n",
        "\n",
        "def get_surface_area(wall):\n",
        "    \"\"\"Get wall area from 'Dimensions' PSet > 'Area'.\"\"\"\n",
        "    value = get_property_value(wall, \"Dimensions\", \"Area\")\n",
        "    if value:\n",
        "        try:\n",
        "            return float(value)\n",
        "        except:\n",
        "            return 0.0\n",
        "    return 0.0\n",
        "\n",
        "\n",
        "# === Geometry settings ===\n",
        "import ifcopenshell.geom\n",
        "settings = ifcopenshell.geom.settings()\n",
        "settings.set(settings.USE_WORLD_COORDS, True)\n",
        "\n",
        "# === Extract walls ===\n",
        "walls = ifc_file.by_type(\"IfcWall\")\n",
        "\n",
        "data = []\n",
        "\n",
        "for wall in walls:\n",
        "    clean_name = get_clean_name(wall.Name)\n",
        "    building_name = get_building_of_element(wall)\n",
        "\n",
        "    fire_resistance = get_property_value(wall, \"Fire Protection\", \"Feuerwiderstand Soll\")\n",
        "    if not fire_resistance:\n",
        "        fire_resistance = \"0\"\n",
        "\n",
        "    surface = get_surface_area(wall)\n",
        "\n",
        "    data.append({\n",
        "        \"Building\": building_name,\n",
        "        \"WallName\": clean_name,\n",
        "        \"FireResistance\": str(fire_resistance),  # Make sure it's string for grouping\n",
        "        \"Surface_m2\": surface\n",
        "    })\n",
        "\n",
        "\n",
        "# === Convert to DataFrame ===\n",
        "df = pd.DataFrame(data)\n",
        "\n",
        "# === Group and summarize ===\n",
        "grouped = df.groupby([\"WallName\", \"FireResistance\"]).agg({\n",
        "    \"Surface_m2\": \"sum\"\n",
        "}).reset_index()\n",
        "\n",
        "print(\"\\n=== Unique combinations of Wall Name and Fire Resistance with Surface Areas (m²) ===\")\n",
        "print(grouped)\n",
        "\n",
        "# === Optional: show grouped by building ===\n",
        "print(\"\\n=== Wall Names grouped by Building ===\")\n",
        "wall_names_by_building = df.groupby(\"Building\")[\"WallName\"].unique()\n",
        "print(wall_names_by_building)\n"
      ],
      "metadata": {
        "colab": {
          "base_uri": "https://localhost:8080/"
        },
        "id": "BJpof2vHO6dE",
        "outputId": "2a65b5a4-ee83-4773-fde9-e8934dda7837"
      },
      "execution_count": 21,
      "outputs": [
        {
          "output_type": "stream",
          "name": "stdout",
          "text": [
            "\n",
            "=== Unique combinations of Wall Name and Fire Resistance with Surface Areas (m²) ===\n",
            "                    WallName FireResistance  Surface_m2\n",
            "0        ARC_FAC_PCC_FBT_STZ              0  334.441592\n",
            "1        ARC_ROF_CON_ATK_DBT              0   94.609875\n",
            "2         ARC_ROF_CON_ATK_VB              0  184.446158\n",
            "3        ARC_WAL_MSN_BRK_EGN              0    1.619015\n",
            "4    ARC_WAN_CON_CPC_OBL_100              0   87.117344\n",
            "..                       ...            ...         ...\n",
            "222                  Walls 1              0   28.003173\n",
            "223                 Walls 16              0    0.173039\n",
            "224                 Walls 20              0    0.178630\n",
            "225                  Walls 7              0  103.550798\n",
            "226         Wand Dachlicht-1              0  164.521834\n",
            "\n",
            "[227 rows x 3 columns]\n",
            "\n",
            "=== Wall Names grouped by Building ===\n",
            "Building\n",
            "Sanierungsbau    [WAT_STB_ORT_140, WAT_STB_ORT_120, WAT_STB_ORT...\n",
            "Name: WallName, dtype: object\n"
          ]
        }
      ]
    },
    {
      "cell_type": "code",
      "source": [
        "grouped.to_csv(\"wall_fire_resistance_summary.csv\", index=False)"
      ],
      "metadata": {
        "id": "9if5HSM1RUnS"
      },
      "execution_count": 22,
      "outputs": []
    }
  ]
}